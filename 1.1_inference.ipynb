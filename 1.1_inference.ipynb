{
 "cells": [
  {
   "cell_type": "code",
   "execution_count": 1,
   "metadata": {},
   "outputs": [
    {
     "name": "stderr",
     "output_type": "stream",
     "text": [
      "/opt/miniconda3/envs/cv/lib/python3.9/site-packages/tqdm/auto.py:22: TqdmWarning: IProgress not found. Please update jupyter and ipywidgets. See https://ipywidgets.readthedocs.io/en/stable/user_install.html\n",
      "  from .autonotebook import tqdm as notebook_tqdm\n"
     ]
    }
   ],
   "source": [
    "import torch\n",
    "from PIL import Image\n",
    "from torchvision import transforms\n",
    "from glob import glob\n",
    "import random\n",
    "imgs_path = glob('data/*/*.jpg')\n"
   ]
  },
  {
   "cell_type": "code",
   "execution_count": 2,
   "metadata": {},
   "outputs": [],
   "source": [
    "input_size= 224\n",
    "norm_mean, norm_std = ([0.7853635, 0.5307834, 0.5485232], [0.13058408, 0.14806533, 0.16119444])\n",
    "\n",
    "model = torch.load('models/model_1_epoch.pt')\n",
    "model.eval()\n",
    "basic_transform = transforms.Compose([transforms.Resize((input_size,input_size)), transforms.ToTensor(),\n",
    "                                        transforms.Normalize(norm_mean, norm_std)])\n"
   ]
  },
  {
   "cell_type": "code",
   "execution_count": 5,
   "metadata": {},
   "outputs": [],
   "source": [
    "def predict(img):\n",
    "\n",
    "    lesion_type_dict = {\n",
    "        'nv': 'Melanocytic nevi',\n",
    "        'mel': 'dermatofibroma',\n",
    "        'bkl': 'Benign keratosis-like lesions ',\n",
    "        'bcc': 'Basal cell carcinoma',\n",
    "        'akiec': 'Actinic keratoses',\n",
    "        'vasc': 'Vascular lesions',\n",
    "        'df': 'Dermatofibroma'\n",
    "    }\n",
    "\n",
    "    classes = ['akiec', 'bcc', 'bkl', 'df', 'nv', 'vasc','mel']\n",
    "    tensor_img = basic_transform(img).unsqueeze(0)\n",
    "    outputs = model(tensor_img)\n",
    "    prediction = outputs.max(1, keepdim=True)[1]\n",
    "    return lesion_type_dict.get(classes[int(prediction)], 'unknown')"
   ]
  },
  {
   "cell_type": "code",
   "execution_count": 8,
   "metadata": {},
   "outputs": [
    {
     "data": {
      "text/plain": [
       "'Benign keratosis-like lesions '"
      ]
     },
     "execution_count": 8,
     "metadata": {},
     "output_type": "execute_result"
    }
   ],
   "source": [
    "img_path = random.choice(imgs_path)\n",
    "sample_img = Image.open(img_path)\n",
    "predict(sample_img)"
   ]
  }
 ],
 "metadata": {
  "kernelspec": {
   "display_name": "cv",
   "language": "python",
   "name": "python3"
  },
  "language_info": {
   "codemirror_mode": {
    "name": "ipython",
    "version": 3
   },
   "file_extension": ".py",
   "mimetype": "text/x-python",
   "name": "python",
   "nbconvert_exporter": "python",
   "pygments_lexer": "ipython3",
   "version": "3.9.16"
  },
  "orig_nbformat": 4
 },
 "nbformat": 4,
 "nbformat_minor": 2
}
